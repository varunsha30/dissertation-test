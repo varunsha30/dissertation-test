{
 "cells": [
  {
   "cell_type": "code",
   "execution_count": 1,
   "metadata": {},
   "outputs": [],
   "source": [
    "# create new text files with the names, file_x.txt where x is a number from 9 to 20\n",
    "# each file should contain the statement \"This is file x\" where x is the number in the file name\n",
    "# use a for loop to create the files\n",
    "# create 12 files\n",
    "for i in range(9, 21):\n",
    "    # create a file name\n",
    "    file_name = 'file_' + str(i) + '.txt'\n",
    "    # create a file\n",
    "    with open(file_name, 'w') as f:\n",
    "        # write to the file\n",
    "        f.write('This is file ' + str(i))"
   ]
  },
  {
   "cell_type": "code",
   "execution_count": null,
   "metadata": {},
   "outputs": [],
   "source": []
  }
 ],
 "metadata": {
  "kernelspec": {
   "display_name": "ML",
   "language": "python",
   "name": "ml"
  },
  "language_info": {
   "codemirror_mode": {
    "name": "ipython",
    "version": 3
   },
   "file_extension": ".py",
   "mimetype": "text/x-python",
   "name": "python",
   "nbconvert_exporter": "python",
   "pygments_lexer": "ipython3",
   "version": "3.10.10"
  },
  "orig_nbformat": 4
 },
 "nbformat": 4,
 "nbformat_minor": 2
}
